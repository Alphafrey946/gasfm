{
 "cells": [
  {
   "cell_type": "code",
   "execution_count": 3,
   "id": "c2f24717-eccc-47f6-b330-863f00842471",
   "metadata": {
    "tags": []
   },
   "outputs": [],
   "source": [
    "import torch\n",
    "import pytorch3d.transforms\n",
    "import numpy as np\n",
    "import os\n",
    "import h5py\n",
    "import numpy as np\n",
    "from scipy import interpolate\n",
    "import cv2\n",
    "from matplotlib import pyplot as plt\n",
    "from PIL import Image"
   ]
  },
  {
   "cell_type": "code",
   "execution_count": 4,
   "id": "cafca08a-a521-41f7-8056-0483523a0314",
   "metadata": {
    "tags": []
   },
   "outputs": [],
   "source": [
    "def data_pairs_adjacent(num_frames):\n",
    "    # obtain the data_pairs to compute the tarnsfomration between frames and the reference (first) frame\n",
    "    \n",
    "    return torch.tensor([[0,n0] for n0 in range(num_frames)])\n",
    "class LabelTransform():\n",
    "\n",
    "    def __init__(\n",
    "        self, \n",
    "        label_type, \n",
    "        pairs,\n",
    "        image_points=None,\n",
    "        tform_image_to_tool=None,\n",
    "        tform_image_mm_to_tool = None,\n",
    "        tform_image_pixel_to_mm = None\n",
    "        ):        \n",
    "        \"\"\"\n",
    "        :param label_type: {\"point\", \"parameter\"}\n",
    "        :param pairs: data pairs, between which the transformations are constructed, returned from pair_samples\n",
    "        :param image_points: 2-by-num or 3-by-num in pixel, used for computing loss\n",
    "        :param tform_image_to_tool: transformation from image coordinates to tool coordinates, usually obtained from calibration\n",
    "        :param tform_image_mm_to_tool: transformation from image coordinates (mm) to tool coordinates\n",
    "        :param tform_image_pixel_to_mm: transformation from image coordinates (pixel) to image coordinates (mm)\n",
    "        \"\"\"\n",
    "\n",
    "        self.label_type = label_type\n",
    "        self.pairs = pairs\n",
    "        self.tform_image_to_tool = tform_image_to_tool\n",
    "        self.tform_image_mm_to_tool = tform_image_mm_to_tool\n",
    "        self.tform_image_pixel_to_mm = tform_image_pixel_to_mm\n",
    "        self.image_points = image_points\n",
    "        # pre-compute reference points in tool coordinates\n",
    "        #self.image_points_in_tool= torch.matmul(self.tform_image_to_tool,self.image_points)\n",
    "        self.tform_tool_to_image = torch.linalg.inv(self.tform_image_to_tool)\n",
    "        self.tform_tool_to_image_mm = torch.linalg.inv(self.tform_image_mm_to_tool)\n",
    "        self.tform_image_mm_to_pixel = torch.linalg.inv(self.tform_image_pixel_to_mm) \n",
    "\n",
    "        if self.label_type==\"point\":              \n",
    "            self.call_function = self.to_points\n",
    "        \n",
    "        elif self.label_type==\"transform\":  \n",
    "            self.call_function = self.to_transform_t2t   \n",
    "\n",
    "        elif self.label_type==\"parameter\":\n",
    "            self.call_function = self.to_parameters   \n",
    "\n",
    "        else:\n",
    "            raise('Unknown label_type!')\n",
    "    \n",
    "\n",
    "    def __call__(self, *args, **kwargs):\n",
    "        return self.call_function(*args, **kwargs)        \n",
    "    \n",
    "    def to_points(self, tforms, tforms_inv=None):\n",
    "        _tforms = self.to_transform_t2t(tforms, tforms_inv)\n",
    "        return torch.matmul(_tforms, torch.matmul(self.tform_image_pixel_to_mm,self.image_points))[:,:,0:3,:]  # [batch,num_pairs,(x,y,z,1),num_image_points]\n",
    " \n",
    "    def to_transform_t2t(self, tforms, tforms_inv):\n",
    "        # the label includes the rigid part of calibration matrix, so the transformation is from image(mm) to image(mm), and the final transformed points is in mm, rather in pixel\n",
    "        # such that the label is Orthogonal Matrix, and then the label could be converted to 6DOF parameter using functions in pytorch3d\n",
    "        if tforms_inv is None:\n",
    "            tforms_inv = torch.linalg.inv(tforms)\n",
    "        \n",
    "        tforms_world_to_tool0 = tforms_inv[:,self.pairs[:,0],:,:]\n",
    "        tforms_tool1_to_world = tforms[:,self.pairs[:,1],:,:]\n",
    "        # tform_tool1_to_tool0 is Orthogonal Matrix\n",
    "        tform_tool1_to_tool0 = torch.matmul(tforms_world_to_tool0, tforms_tool1_to_world)  # tform_tool1_to_tool0\n",
    "        # the returned matrix, which is the label, is Orthogonal Matrix\n",
    "        return torch.matmul(self.tform_tool_to_image_mm[None,None,...],torch.matmul(tform_tool1_to_tool0,self.tform_image_mm_to_tool[None,None,...])) # tform_image1_mm_to_image0_mm\n",
    "\n",
    "    def to_parameters(self, tforms, tforms_inv):\n",
    "        _tforms = self.to_transform_t2t(tforms, tforms_inv)\n",
    "        # only Orthogonal Matrix can be converted to Euler angles\n",
    "        #Rotation = pytorch3d.transforms.matrix_to_euler_angles(_tforms[:,:,0:3, 0:3], 'ZYX')\n",
    "        #params = torch.cat((Rotation, _tforms[:,:,0:3, 3]),2)\n",
    "        return _tforms\n",
    "def read_calib_matrices(filename_calib):\n",
    "    # read the calibration matrices from the csv file\n",
    "    # T{image->tool} = T{image_mm -> tool} * T{image_pix -> image_mm}}\n",
    "    tform_calib = np.empty((8,4), np.float32)\n",
    "    with open(filename_calib,'r') as csv_file:\n",
    "        txt = [i.strip('\\n').split(',') for i in csv_file.readlines()]\n",
    "        tform_calib[0:4,:]=np.array(txt[1:5]).astype(np.float32)\n",
    "        tform_calib[4:8,:]=np.array(txt[6:10]).astype(np.float32)\n",
    "    return torch.tensor(tform_calib[0:4,:]),torch.tensor(tform_calib[4:8,:]), torch.tensor(tform_calib[4:8,:] @ tform_calib[0:4,:])\n"
   ]
  },
  {
   "cell_type": "code",
   "execution_count": null,
   "metadata": {},
   "outputs": [
    {
     "data": {
      "text/plain": [
       "['K_gt', 'R_gt', 'T_gt', 'M', 'Ps_gt', 'Ns', 'namesList']"
      ]
     },
     "metadata": {},
     "output_type": "display_data"
    }
   ],
   "source": [
    "final_result_gt = np.load('/data/data_ustv/home/ydou8/gasfm/datasets/Euclidean/001_RH_Per_L_DtP_gt.npz')\n",
    "final_result_gt.files"
   ]
  },
  {
   "cell_type": "code",
   "execution_count": 5,
   "id": "c4762d9e",
   "metadata": {},
   "outputs": [],
   "source": [
    "filedic = dict(np.load('../datasets/Euclidean/NijoCastleGate.npz',allow_pickle=True))\n",
    "#gtpath = '/data/data_ustv/home/zzhang679/gasfm/dataset/Euclidean/tus_sp_data/'\n",
    "#gt_files = [f for f in os.listdir(gtpath) if f.endswith(\".npz\")]\n",
    "#gt_files = sorted(gt_files)\n",
    "# get object names in HDF5 file\n",
    "gtpath_h5 = '../../TUS_SP/data/frames_transfs/'\n",
    "gt_files_h5 = [os.path.join(root, name)\n",
    "             for root, dirs, files in os.walk(gtpath_h5)\n",
    "             for name in files\n",
    "             if name.endswith((\".h5\"))]\n"
   ]
  },
  {
   "cell_type": "code",
   "execution_count": 65,
   "id": "bc42025e",
   "metadata": {},
   "outputs": [
    {
     "name": "stdout",
     "output_type": "stream",
     "text": [
      "../../TUS_SP/data/frames_transfs/010/LH_Par_C_DtP.h5\n",
      "../../TUS_SP/data/frames_transfs/022/LH_Per_L_DtP.h5\n",
      "../../TUS_SP/data/frames_transfs/019/RH_Per_C_DtP.h5\n",
      "../../TUS_SP/data/frames_transfs/028/LH_Par_L_PtD.h5\n",
      "../../TUS_SP/data/frames_transfs/022/LH_Per_C_DtP.h5\n",
      "../../TUS_SP/data/frames_transfs/017/LH_Per_C_PtD.h5\n",
      "../../TUS_SP/data/frames_transfs/019/LH_Par_C_DtP.h5\n",
      "../../TUS_SP/data/frames_transfs/025/LH_Per_L_PtD.h5\n",
      "../../TUS_SP/data/frames_transfs/025/RH_Par_L_DtP.h5\n",
      "../../TUS_SP/data/frames_transfs/015/LH_Par_C_PtD.h5\n",
      "../../TUS_SP/data/frames_transfs/028/RH_Per_L_DtP.h5\n",
      "../../TUS_SP/data/frames_transfs/026/RH_Par_S_PtD.h5\n",
      "../../TUS_SP/data/frames_transfs/024/RH_Par_C_DtP.h5\n",
      "../../TUS_SP/data/frames_transfs/020/RH_Per_C_PtD.h5\n",
      "../../TUS_SP/data/frames_transfs/019/RH_Per_L_DtP.h5\n",
      "../../TUS_SP/data/frames_transfs/017/LH_Per_L_DtP.h5\n",
      "../../TUS_SP/data/frames_transfs/020/RH_Per_C_DtP.h5\n",
      "../../TUS_SP/data/frames_transfs/021/RH_Per_S_DtP.h5\n",
      "../../TUS_SP/data/frames_transfs/021/LH_Par_S_DtP.h5\n",
      "../../TUS_SP/data/frames_transfs/014/RH_Par_C_PtD.h5\n",
      "../../TUS_SP/data/frames_transfs/027/LH_Per_C_PtD.h5\n",
      "../../TUS_SP/data/frames_transfs/019/LH_Per_L_DtP.h5\n",
      "../../TUS_SP/data/frames_transfs/021/LH_Per_S_PtD.h5\n",
      "../../TUS_SP/data/frames_transfs/025/LH_Per_S_DtP.h5\n",
      "../../TUS_SP/data/frames_transfs/020/RH_Par_C_PtD.h5\n",
      "../../TUS_SP/data/frames_transfs/027/LH_Par_L_PtD.h5\n",
      "../../TUS_SP/data/frames_transfs/025/LH_Par_L_PtD.h5\n",
      "../../TUS_SP/data/frames_transfs/025/LH_Par_C_PtD.h5\n",
      "../../TUS_SP/data/frames_transfs/018/RH_Per_S_DtP.h5\n",
      "../../TUS_SP/data/frames_transfs/028/RH_Per_L_DtP.h5\n",
      "../../TUS_SP/data/frames_transfs/026/LH_Per_S_DtP.h5\n",
      "../../TUS_SP/data/frames_transfs/024/RH_Per_S_PtD.h5\n",
      "../../TUS_SP/data/frames_transfs/018/RH_Per_S_PtD.h5\n",
      "../../TUS_SP/data/frames_transfs/024/RH_Per_S_PtD.h5\n",
      "../../TUS_SP/data/frames_transfs/030/RH_Per_S_PtD.h5\n",
      "../../TUS_SP/data/frames_transfs/024/LH_Par_S_DtP.h5\n",
      "../../TUS_SP/data/frames_transfs/021/LH_Par_S_PtD.h5\n",
      "../../TUS_SP/data/frames_transfs/027/LH_Per_L_DtP.h5\n",
      "../../TUS_SP/data/frames_transfs/024/RH_Per_S_DtP.h5\n",
      "../../TUS_SP/data/frames_transfs/025/LH_Per_C_PtD.h5\n",
      "../../TUS_SP/data/frames_transfs/025/LH_Per_S_DtP.h5\n",
      "../../TUS_SP/data/frames_transfs/025/RH_Par_S_DtP.h5\n",
      "../../TUS_SP/data/frames_transfs/024/LH_Par_L_PtD.h5\n",
      "../../TUS_SP/data/frames_transfs/023/RH_Par_L_DtP.h5\n",
      "../../TUS_SP/data/frames_transfs/017/LH_Per_C_DtP.h5\n",
      "../../TUS_SP/data/frames_transfs/017/RH_Par_C_DtP.h5\n",
      "../../TUS_SP/data/frames_transfs/029/RH_Per_C_PtD.h5\n",
      "../../TUS_SP/data/frames_transfs/024/RH_Par_S_DtP.h5\n",
      "../../TUS_SP/data/frames_transfs/019/RH_Par_S_DtP.h5\n",
      "../../TUS_SP/data/frames_transfs/024/RH_Per_S_PtD.h5\n",
      "../../TUS_SP/data/frames_transfs/032/RH_Per_L_DtP.h5\n",
      "../../TUS_SP/data/frames_transfs/022/LH_Per_L_DtP.h5\n",
      "../../TUS_SP/data/frames_transfs/024/RH_Par_L_DtP.h5\n",
      "../../TUS_SP/data/frames_transfs/029/LH_Par_S_PtD.h5\n",
      "../../TUS_SP/data/frames_transfs/028/RH_Per_L_DtP.h5\n",
      "../../TUS_SP/data/frames_transfs/027/RH_Par_S_PtD.h5\n",
      "../../TUS_SP/data/frames_transfs/022/LH_Par_L_PtD.h5\n",
      "../../TUS_SP/data/frames_transfs/023/RH_Per_S_DtP.h5\n",
      "../../TUS_SP/data/frames_transfs/023/LH_Par_S_PtD.h5\n",
      "../../TUS_SP/data/frames_transfs/023/LH_Par_C_PtD.h5\n",
      "../../TUS_SP/data/frames_transfs/014/LH_Per_C_DtP.h5\n",
      "../../TUS_SP/data/frames_transfs/017/RH_Per_L_DtP.h5\n",
      "../../TUS_SP/data/frames_transfs/017/LH_Par_L_PtD.h5\n",
      "../../TUS_SP/data/frames_transfs/018/LH_Par_L_PtD.h5\n",
      "../../TUS_SP/data/frames_transfs/020/LH_Per_L_PtD.h5\n",
      "../../TUS_SP/data/frames_transfs/028/LH_Per_S_PtD.h5\n",
      "../../TUS_SP/data/frames_transfs/028/RH_Par_C_PtD.h5\n",
      "../../TUS_SP/data/frames_transfs/026/RH_Per_S_PtD.h5\n",
      "../../TUS_SP/data/frames_transfs/024/LH_Par_L_PtD.h5\n",
      "../../TUS_SP/data/frames_transfs/025/LH_Par_C_PtD.h5\n",
      "../../TUS_SP/data/frames_transfs/027/LH_Par_C_PtD.h5\n",
      "../../TUS_SP/data/frames_transfs/019/RH_Per_C_DtP.h5\n",
      "../../TUS_SP/data/frames_transfs/016/LH_Per_L_PtD.h5\n",
      "../../TUS_SP/data/frames_transfs/022/RH_Per_C_PtD.h5\n",
      "../../TUS_SP/data/frames_transfs/026/LH_Par_L_PtD.h5\n",
      "../../TUS_SP/data/frames_transfs/024/RH_Par_S_PtD.h5\n",
      "../../TUS_SP/data/frames_transfs/019/LH_Per_C_DtP.h5\n",
      "../../TUS_SP/data/frames_transfs/024/LH_Par_L_PtD.h5\n",
      "../../TUS_SP/data/frames_transfs/024/LH_Per_S_PtD.h5\n",
      "../../TUS_SP/data/frames_transfs/035/RH_Per_C_PtD.h5\n",
      "../../TUS_SP/data/frames_transfs/025/LH_Par_L_PtD.h5\n",
      "../../TUS_SP/data/frames_transfs/020/RH_Per_S_PtD.h5\n",
      "../../TUS_SP/data/frames_transfs/034/RH_Par_L_PtD.h5\n",
      "../../TUS_SP/data/frames_transfs/031/RH_Per_S_DtP.h5\n",
      "../../TUS_SP/data/frames_transfs/022/RH_Per_S_PtD.h5\n",
      "../../TUS_SP/data/frames_transfs/021/LH_Per_S_PtD.h5\n",
      "../../TUS_SP/data/frames_transfs/019/LH_Par_C_DtP.h5\n",
      "../../TUS_SP/data/frames_transfs/028/LH_Per_S_DtP.h5\n",
      "../../TUS_SP/data/frames_transfs/027/RH_Par_C_DtP.h5\n",
      "../../TUS_SP/data/frames_transfs/030/LH_Per_S_DtP.h5\n",
      "../../TUS_SP/data/frames_transfs/021/LH_Par_C_DtP.h5\n",
      "../../TUS_SP/data/frames_transfs/018/LH_Par_C_PtD.h5\n",
      "../../TUS_SP/data/frames_transfs/024/RH_Per_C_PtD.h5\n",
      "../../TUS_SP/data/frames_transfs/019/LH_Per_L_DtP.h5\n",
      "../../TUS_SP/data/frames_transfs/021/LH_Per_L_PtD.h5\n",
      "../../TUS_SP/data/frames_transfs/022/RH_Par_C_PtD.h5\n",
      "../../TUS_SP/data/frames_transfs/016/RH_Per_L_PtD.h5\n",
      "../../TUS_SP/data/frames_transfs/021/RH_Par_C_PtD.h5\n",
      "../../TUS_SP/data/frames_transfs/023/RH_Par_S_PtD.h5\n",
      "../../TUS_SP/data/frames_transfs/025/LH_Per_S_DtP.h5\n",
      "../../TUS_SP/data/frames_transfs/019/RH_Par_L_DtP.h5\n",
      "../../TUS_SP/data/frames_transfs/019/LH_Per_L_DtP.h5\n",
      "../../TUS_SP/data/frames_transfs/023/LH_Par_L_PtD.h5\n",
      "../../TUS_SP/data/frames_transfs/024/LH_Per_S_PtD.h5\n",
      "../../TUS_SP/data/frames_transfs/024/RH_Per_S_DtP.h5\n",
      "../../TUS_SP/data/frames_transfs/019/LH_Per_S_DtP.h5\n",
      "../../TUS_SP/data/frames_transfs/022/LH_Per_L_PtD.h5\n",
      "../../TUS_SP/data/frames_transfs/020/RH_Par_L_DtP.h5\n",
      "../../TUS_SP/data/frames_transfs/014/LH_Par_L_PtD.h5\n",
      "../../TUS_SP/data/frames_transfs/018/LH_Per_C_DtP.h5\n",
      "../../TUS_SP/data/frames_transfs/011/LH_Par_C_PtD.h5\n",
      "../../TUS_SP/data/frames_transfs/023/RH_Per_C_PtD.h5\n",
      "../../TUS_SP/data/frames_transfs/020/LH_Par_L_DtP.h5\n",
      "../../TUS_SP/data/frames_transfs/025/LH_Per_C_DtP.h5\n",
      "../../TUS_SP/data/frames_transfs/021/LH_Per_L_DtP.h5\n",
      "../../TUS_SP/data/frames_transfs/020/RH_Per_S_DtP.h5\n",
      "../../TUS_SP/data/frames_transfs/019/RH_Par_L_DtP.h5\n",
      "../../TUS_SP/data/frames_transfs/017/LH_Per_C_DtP.h5\n",
      "../../TUS_SP/data/frames_transfs/020/RH_Par_C_DtP.h5\n",
      "../../TUS_SP/data/frames_transfs/017/LH_Par_S_PtD.h5\n",
      "../../TUS_SP/data/frames_transfs/017/RH_Par_S_DtP.h5\n",
      "../../TUS_SP/data/frames_transfs/020/RH_Per_L_DtP.h5\n",
      "../../TUS_SP/data/frames_transfs/020/LH_Per_L_DtP.h5\n",
      "../../TUS_SP/data/frames_transfs/019/LH_Per_C_PtD.h5\n",
      "../../TUS_SP/data/frames_transfs/019/LH_Par_C_PtD.h5\n",
      "../../TUS_SP/data/frames_transfs/023/LH_Per_C_PtD.h5\n",
      "../../TUS_SP/data/frames_transfs/023/RH_Par_S_PtD.h5\n",
      "../../TUS_SP/data/frames_transfs/020/RH_Par_C_PtD.h5\n",
      "../../TUS_SP/data/frames_transfs/018/LH_Per_L_PtD.h5\n",
      "../../TUS_SP/data/frames_transfs/022/LH_Per_L_PtD.h5\n",
      "../../TUS_SP/data/frames_transfs/019/RH_Par_L_PtD.h5\n",
      "../../TUS_SP/data/frames_transfs/021/LH_Par_S_DtP.h5\n",
      "../../TUS_SP/data/frames_transfs/022/LH_Per_S_PtD.h5\n",
      "../../TUS_SP/data/frames_transfs/021/RH_Par_S_PtD.h5\n",
      "../../TUS_SP/data/frames_transfs/014/RH_Par_L_PtD.h5\n",
      "../../TUS_SP/data/frames_transfs/028/RH_Par_S_PtD.h5\n",
      "../../TUS_SP/data/frames_transfs/023/RH_Par_L_PtD.h5\n",
      "../../TUS_SP/data/frames_transfs/019/LH_Per_C_PtD.h5\n",
      "../../TUS_SP/data/frames_transfs/018/LH_Par_L_DtP.h5\n",
      "../../TUS_SP/data/frames_transfs/017/RH_Per_C_PtD.h5\n",
      "../../TUS_SP/data/frames_transfs/019/LH_Par_S_PtD.h5\n",
      "../../TUS_SP/data/frames_transfs/022/RH_Par_S_DtP.h5\n",
      "../../TUS_SP/data/frames_transfs/021/RH_Per_C_DtP.h5\n",
      "../../TUS_SP/data/frames_transfs/019/RH_Par_L_DtP.h5\n",
      "../../TUS_SP/data/frames_transfs/015/LH_Par_C_DtP.h5\n",
      "../../TUS_SP/data/frames_transfs/022/LH_Par_C_DtP.h5\n",
      "../../TUS_SP/data/frames_transfs/023/RH_Per_C_DtP.h5\n",
      "../../TUS_SP/data/frames_transfs/020/RH_Par_S_PtD.h5\n",
      "../../TUS_SP/data/frames_transfs/017/RH_Par_L_PtD.h5\n",
      "../../TUS_SP/data/frames_transfs/016/RH_Par_S_DtP.h5\n",
      "../../TUS_SP/data/frames_transfs/018/RH_Per_C_PtD.h5\n",
      "../../TUS_SP/data/frames_transfs/021/RH_Per_C_PtD.h5\n",
      "../../TUS_SP/data/frames_transfs/021/LH_Per_L_PtD.h5\n",
      "../../TUS_SP/data/frames_transfs/019/LH_Per_S_DtP.h5\n",
      "../../TUS_SP/data/frames_transfs/025/RH_Par_L_DtP.h5\n",
      "../../TUS_SP/data/frames_transfs/020/RH_Per_C_DtP.h5\n",
      "../../TUS_SP/data/frames_transfs/017/LH_Per_C_PtD.h5\n",
      "../../TUS_SP/data/frames_transfs/018/LH_Per_C_DtP.h5\n",
      "../../TUS_SP/data/frames_transfs/019/LH_Par_C_PtD.h5\n",
      "../../TUS_SP/data/frames_transfs/021/RH_Per_L_PtD.h5\n",
      "../../TUS_SP/data/frames_transfs/020/RH_Per_L_PtD.h5\n",
      "../../TUS_SP/data/frames_transfs/019/RH_Par_S_PtD.h5\n",
      "../../TUS_SP/data/frames_transfs/025/RH_Par_S_DtP.h5\n",
      "../../TUS_SP/data/frames_transfs/017/RH_Per_S_DtP.h5\n",
      "../../TUS_SP/data/frames_transfs/020/LH_Par_L_DtP.h5\n",
      "../../TUS_SP/data/frames_transfs/017/LH_Par_L_DtP.h5\n",
      "../../TUS_SP/data/frames_transfs/019/RH_Per_C_PtD.h5\n",
      "../../TUS_SP/data/frames_transfs/019/RH_Par_L_DtP.h5\n",
      "../../TUS_SP/data/frames_transfs/019/LH_Par_S_DtP.h5\n",
      "../../TUS_SP/data/frames_transfs/020/RH_Per_L_PtD.h5\n",
      "../../TUS_SP/data/frames_transfs/027/RH_Per_S_PtD.h5\n",
      "../../TUS_SP/data/frames_transfs/012/RH_Par_C_DtP.h5\n",
      "../../TUS_SP/data/frames_transfs/025/LH_Per_S_PtD.h5\n",
      "../../TUS_SP/data/frames_transfs/022/RH_Par_S_DtP.h5\n",
      "../../TUS_SP/data/frames_transfs/022/LH_Per_S_PtD.h5\n",
      "../../TUS_SP/data/frames_transfs/025/LH_Par_C_DtP.h5\n",
      "../../TUS_SP/data/frames_transfs/021/LH_Par_S_DtP.h5\n",
      "../../TUS_SP/data/frames_transfs/018/LH_Par_C_DtP.h5\n",
      "../../TUS_SP/data/frames_transfs/024/RH_Per_L_DtP.h5\n",
      "../../TUS_SP/data/frames_transfs/022/LH_Par_C_PtD.h5\n",
      "../../TUS_SP/data/frames_transfs/021/LH_Par_S_DtP.h5\n",
      "../../TUS_SP/data/frames_transfs/020/LH_Par_L_DtP.h5\n",
      "../../TUS_SP/data/frames_transfs/021/LH_Par_L_DtP.h5\n",
      "../../TUS_SP/data/frames_transfs/019/RH_Par_C_PtD.h5\n",
      "../../TUS_SP/data/frames_transfs/022/RH_Par_L_PtD.h5\n",
      "../../TUS_SP/data/frames_transfs/024/LH_Per_L_PtD.h5\n",
      "../../TUS_SP/data/frames_transfs/026/RH_Par_S_DtP.h5\n",
      "../../TUS_SP/data/frames_transfs/019/RH_Per_C_PtD.h5\n",
      "../../TUS_SP/data/frames_transfs/025/LH_Par_C_DtP.h5\n",
      "../../TUS_SP/data/frames_transfs/023/LH_Par_S_PtD.h5\n",
      "../../TUS_SP/data/frames_transfs/021/RH_Per_L_DtP.h5\n",
      "../../TUS_SP/data/frames_transfs/025/RH_Par_C_DtP.h5\n",
      "../../TUS_SP/data/frames_transfs/020/LH_Par_L_PtD.h5\n",
      "../../TUS_SP/data/frames_transfs/018/RH_Par_S_PtD.h5\n",
      "../../TUS_SP/data/frames_transfs/023/LH_Per_L_PtD.h5\n",
      "../../TUS_SP/data/frames_transfs/020/RH_Per_L_PtD.h5\n",
      "../../TUS_SP/data/frames_transfs/023/LH_Per_S_DtP.h5\n",
      "../../TUS_SP/data/frames_transfs/023/RH_Par_C_DtP.h5\n",
      "../../TUS_SP/data/frames_transfs/023/RH_Per_S_PtD.h5\n",
      "../../TUS_SP/data/frames_transfs/020/RH_Per_L_DtP.h5\n",
      "../../TUS_SP/data/frames_transfs/018/RH_Par_L_PtD.h5\n",
      "../../TUS_SP/data/frames_transfs/016/LH_Per_L_DtP.h5\n",
      "../../TUS_SP/data/frames_transfs/022/LH_Per_C_DtP.h5\n",
      "../../TUS_SP/data/frames_transfs/021/LH_Par_L_PtD.h5\n",
      "../../TUS_SP/data/frames_transfs/023/LH_Par_L_PtD.h5\n",
      "../../TUS_SP/data/frames_transfs/021/RH_Par_S_PtD.h5\n",
      "../../TUS_SP/data/frames_transfs/019/LH_Par_C_DtP.h5\n",
      "../../TUS_SP/data/frames_transfs/023/RH_Par_L_DtP.h5\n",
      "../../TUS_SP/data/frames_transfs/022/LH_Per_C_PtD.h5\n",
      "../../TUS_SP/data/frames_transfs/021/LH_Par_C_DtP.h5\n",
      "../../TUS_SP/data/frames_transfs/022/RH_Par_S_DtP.h5\n",
      "../../TUS_SP/data/frames_transfs/021/LH_Par_C_DtP.h5\n",
      "../../TUS_SP/data/frames_transfs/023/LH_Per_L_DtP.h5\n",
      "../../TUS_SP/data/frames_transfs/020/RH_Per_C_DtP.h5\n",
      "../../TUS_SP/data/frames_transfs/025/RH_Par_C_PtD.h5\n",
      "../../TUS_SP/data/frames_transfs/018/LH_Per_S_DtP.h5\n",
      "../../TUS_SP/data/frames_transfs/021/LH_Per_S_DtP.h5\n",
      "../../TUS_SP/data/frames_transfs/024/RH_Per_C_DtP.h5\n",
      "../../TUS_SP/data/frames_transfs/021/LH_Per_L_PtD.h5\n",
      "../../TUS_SP/data/frames_transfs/020/LH_Per_C_PtD.h5\n",
      "../../TUS_SP/data/frames_transfs/023/RH_Per_S_PtD.h5\n",
      "../../TUS_SP/data/frames_transfs/024/LH_Par_S_DtP.h5\n",
      "../../TUS_SP/data/frames_transfs/018/LH_Per_S_PtD.h5\n",
      "../../TUS_SP/data/frames_transfs/020/LH_Par_L_DtP.h5\n",
      "../../TUS_SP/data/frames_transfs/021/RH_Per_L_DtP.h5\n",
      "../../TUS_SP/data/frames_transfs/021/RH_Par_S_DtP.h5\n",
      "../../TUS_SP/data/frames_transfs/026/LH_Par_S_DtP.h5\n",
      "../../TUS_SP/data/frames_transfs/020/LH_Per_C_PtD.h5\n",
      "../../TUS_SP/data/frames_transfs/025/LH_Per_C_PtD.h5\n",
      "../../TUS_SP/data/frames_transfs/023/RH_Per_L_DtP.h5\n",
      "../../TUS_SP/data/frames_transfs/017/LH_Per_C_PtD.h5\n",
      "../../TUS_SP/data/frames_transfs/021/RH_Par_C_PtD.h5\n",
      "../../TUS_SP/data/frames_transfs/023/RH_Par_L_DtP.h5\n",
      "../../TUS_SP/data/frames_transfs/019/LH_Per_L_PtD.h5\n",
      "../../TUS_SP/data/frames_transfs/019/RH_Par_S_DtP.h5\n",
      "../../TUS_SP/data/frames_transfs/019/RH_Par_C_DtP.h5\n",
      "../../TUS_SP/data/frames_transfs/024/LH_Par_L_DtP.h5\n",
      "../../TUS_SP/data/frames_transfs/019/RH_Per_L_DtP.h5\n",
      "../../TUS_SP/data/frames_transfs/021/LH_Par_S_PtD.h5\n",
      "../../TUS_SP/data/frames_transfs/017/RH_Per_L_DtP.h5\n",
      "../../TUS_SP/data/frames_transfs/022/LH_Par_L_PtD.h5\n",
      "../../TUS_SP/data/frames_transfs/022/LH_Per_C_PtD.h5\n",
      "../../TUS_SP/data/frames_transfs/027/RH_Par_C_DtP.h5\n",
      "../../TUS_SP/data/frames_transfs/024/RH_Par_S_DtP.h5\n",
      "../../TUS_SP/data/frames_transfs/017/RH_Per_S_DtP.h5\n",
      "../../TUS_SP/data/frames_transfs/024/LH_Per_L_DtP.h5\n",
      "../../TUS_SP/data/frames_transfs/020/LH_Per_L_PtD.h5\n",
      "../../TUS_SP/data/frames_transfs/019/LH_Per_L_DtP.h5\n",
      "../../TUS_SP/data/frames_transfs/020/RH_Per_S_PtD.h5\n",
      "../../TUS_SP/data/frames_transfs/021/RH_Per_S_DtP.h5\n",
      "../../TUS_SP/data/frames_transfs/022/RH_Par_L_DtP.h5\n",
      "../../TUS_SP/data/frames_transfs/022/LH_Per_C_PtD.h5\n",
      "../../TUS_SP/data/frames_transfs/024/RH_Par_S_PtD.h5\n",
      "../../TUS_SP/data/frames_transfs/027/LH_Par_S_DtP.h5\n",
      "../../TUS_SP/data/frames_transfs/021/LH_Par_L_PtD.h5\n",
      "../../TUS_SP/data/frames_transfs/020/LH_Par_L_DtP.h5\n",
      "../../TUS_SP/data/frames_transfs/026/RH_Per_S_DtP.h5\n",
      "../../TUS_SP/data/frames_transfs/022/RH_Per_S_PtD.h5\n",
      "../../TUS_SP/data/frames_transfs/021/RH_Per_C_PtD.h5\n",
      "../../TUS_SP/data/frames_transfs/015/LH_Per_L_PtD.h5\n",
      "../../TUS_SP/data/frames_transfs/021/LH_Per_L_DtP.h5\n",
      "../../TUS_SP/data/frames_transfs/020/RH_Per_L_DtP.h5\n",
      "../../TUS_SP/data/frames_transfs/021/RH_Per_C_DtP.h5\n",
      "../../TUS_SP/data/frames_transfs/022/LH_Per_C_PtD.h5\n",
      "../../TUS_SP/data/frames_transfs/021/LH_Par_S_DtP.h5\n",
      "../../TUS_SP/data/frames_transfs/022/LH_Par_C_DtP.h5\n",
      "../../TUS_SP/data/frames_transfs/022/LH_Par_S_PtD.h5\n",
      "../../TUS_SP/data/frames_transfs/022/LH_Par_L_DtP.h5\n",
      "../../TUS_SP/data/frames_transfs/026/LH_Par_L_DtP.h5\n",
      "../../TUS_SP/data/frames_transfs/021/RH_Par_L_DtP.h5\n",
      "../../TUS_SP/data/frames_transfs/020/RH_Par_L_PtD.h5\n",
      "../../TUS_SP/data/frames_transfs/020/RH_Par_C_PtD.h5\n",
      "../../TUS_SP/data/frames_transfs/021/LH_Par_S_DtP.h5\n",
      "../../TUS_SP/data/frames_transfs/019/LH_Per_C_DtP.h5\n",
      "../../TUS_SP/data/frames_transfs/023/LH_Par_S_PtD.h5\n",
      "../../TUS_SP/data/frames_transfs/023/LH_Par_C_DtP.h5\n",
      "../../TUS_SP/data/frames_transfs/025/RH_Par_S_DtP.h5\n",
      "../../TUS_SP/data/frames_transfs/019/LH_Per_L_DtP.h5\n",
      "../../TUS_SP/data/frames_transfs/019/RH_Per_L_PtD.h5\n",
      "../../TUS_SP/data/frames_transfs/024/RH_Per_S_PtD.h5\n",
      "../../TUS_SP/data/frames_transfs/021/LH_Per_L_DtP.h5\n",
      "../../TUS_SP/data/frames_transfs/023/RH_Per_S_DtP.h5\n",
      "../../TUS_SP/data/frames_transfs/022/RH_Per_S_DtP.h5\n",
      "../../TUS_SP/data/frames_transfs/026/LH_Par_L_PtD.h5\n",
      "../../TUS_SP/data/frames_transfs/024/LH_Per_S_PtD.h5\n",
      "../../TUS_SP/data/frames_transfs/028/LH_Per_C_PtD.h5\n",
      "../../TUS_SP/data/frames_transfs/026/RH_Per_C_PtD.h5\n",
      "../../TUS_SP/data/frames_transfs/019/RH_Per_S_PtD.h5\n",
      "../../TUS_SP/data/frames_transfs/025/LH_Per_C_DtP.h5\n",
      "../../TUS_SP/data/frames_transfs/020/RH_Per_S_PtD.h5\n",
      "../../TUS_SP/data/frames_transfs/028/LH_Per_S_PtD.h5\n",
      "../../TUS_SP/data/frames_transfs/024/LH_Per_C_DtP.h5\n",
      "../../TUS_SP/data/frames_transfs/023/LH_Par_L_PtD.h5\n",
      "../../TUS_SP/data/frames_transfs/017/LH_Per_C_DtP.h5\n",
      "../../TUS_SP/data/frames_transfs/025/LH_Per_L_DtP.h5\n",
      "../../TUS_SP/data/frames_transfs/029/LH_Par_L_PtD.h5\n",
      "../../TUS_SP/data/frames_transfs/022/RH_Per_C_PtD.h5\n",
      "../../TUS_SP/data/frames_transfs/019/LH_Par_C_DtP.h5\n",
      "../../TUS_SP/data/frames_transfs/031/LH_Per_S_PtD.h5\n",
      "../../TUS_SP/data/frames_transfs/023/LH_Par_S_DtP.h5\n",
      "../../TUS_SP/data/frames_transfs/024/LH_Par_S_PtD.h5\n",
      "../../TUS_SP/data/frames_transfs/021/RH_Par_C_DtP.h5\n",
      "../../TUS_SP/data/frames_transfs/024/LH_Per_C_DtP.h5\n",
      "../../TUS_SP/data/frames_transfs/024/RH_Par_S_DtP.h5\n",
      "../../TUS_SP/data/frames_transfs/025/LH_Per_S_DtP.h5\n",
      "../../TUS_SP/data/frames_transfs/025/LH_Per_S_DtP.h5\n",
      "../../TUS_SP/data/frames_transfs/022/RH_Per_S_DtP.h5\n",
      "../../TUS_SP/data/frames_transfs/025/RH_Par_S_PtD.h5\n",
      "../../TUS_SP/data/frames_transfs/021/LH_Per_L_DtP.h5\n",
      "../../TUS_SP/data/frames_transfs/029/LH_Par_C_PtD.h5\n",
      "../../TUS_SP/data/frames_transfs/024/RH_Per_S_DtP.h5\n",
      "../../TUS_SP/data/frames_transfs/022/LH_Par_S_PtD.h5\n",
      "../../TUS_SP/data/frames_transfs/019/LH_Par_C_DtP.h5\n",
      "../../TUS_SP/data/frames_transfs/020/RH_Per_C_PtD.h5\n",
      "../../TUS_SP/data/frames_transfs/026/RH_Per_L_PtD.h5\n",
      "../../TUS_SP/data/frames_transfs/020/LH_Per_L_DtP.h5\n",
      "../../TUS_SP/data/frames_transfs/023/RH_Par_S_DtP.h5\n",
      "../../TUS_SP/data/frames_transfs/019/LH_Per_C_DtP.h5\n",
      "../../TUS_SP/data/frames_transfs/021/LH_Par_C_PtD.h5\n",
      "../../TUS_SP/data/frames_transfs/018/LH_Par_L_DtP.h5\n",
      "../../TUS_SP/data/frames_transfs/020/LH_Per_S_PtD.h5\n",
      "../../TUS_SP/data/frames_transfs/020/LH_Par_S_PtD.h5\n",
      "../../TUS_SP/data/frames_transfs/023/LH_Par_S_DtP.h5\n",
      "../../TUS_SP/data/frames_transfs/022/RH_Per_C_DtP.h5\n",
      "../../TUS_SP/data/frames_transfs/029/LH_Par_C_DtP.h5\n",
      "../../TUS_SP/data/frames_transfs/019/LH_Per_C_DtP.h5\n",
      "../../TUS_SP/data/frames_transfs/023/RH_Par_C_PtD.h5\n",
      "../../TUS_SP/data/frames_transfs/030/LH_Per_S_DtP.h5\n",
      "../../TUS_SP/data/frames_transfs/023/RH_Per_L_DtP.h5\n",
      "../../TUS_SP/data/frames_transfs/027/LH_Par_C_DtP.h5\n",
      "../../TUS_SP/data/frames_transfs/021/RH_Par_S_DtP.h5\n",
      "../../TUS_SP/data/frames_transfs/022/RH_Per_S_PtD.h5\n",
      "../../TUS_SP/data/frames_transfs/023/LH_Par_S_DtP.h5\n",
      "../../TUS_SP/data/frames_transfs/023/LH_Par_S_DtP.h5\n",
      "../../TUS_SP/data/frames_transfs/023/RH_Per_C_DtP.h5\n",
      "../../TUS_SP/data/frames_transfs/024/RH_Par_S_PtD.h5\n",
      "../../TUS_SP/data/frames_transfs/020/LH_Per_L_PtD.h5\n",
      "../../TUS_SP/data/frames_transfs/016/RH_Par_C_PtD.h5\n",
      "../../TUS_SP/data/frames_transfs/018/RH_Per_S_PtD.h5\n",
      "../../TUS_SP/data/frames_transfs/020/LH_Per_L_PtD.h5\n",
      "../../TUS_SP/data/frames_transfs/021/LH_Per_L_DtP.h5\n",
      "../../TUS_SP/data/frames_transfs/023/LH_Par_L_PtD.h5\n",
      "../../TUS_SP/data/frames_transfs/019/LH_Per_C_DtP.h5\n",
      "../../TUS_SP/data/frames_transfs/020/LH_Per_S_PtD.h5\n",
      "../../TUS_SP/data/frames_transfs/020/RH_Par_L_PtD.h5\n",
      "../../TUS_SP/data/frames_transfs/021/RH_Par_S_DtP.h5\n",
      "../../TUS_SP/data/frames_transfs/017/LH_Par_S_PtD.h5\n",
      "../../TUS_SP/data/frames_transfs/021/RH_Par_S_DtP.h5\n",
      "../../TUS_SP/data/frames_transfs/024/RH_Par_L_PtD.h5\n",
      "../../TUS_SP/data/frames_transfs/021/RH_Par_L_PtD.h5\n",
      "../../TUS_SP/data/frames_transfs/021/RH_Par_C_PtD.h5\n",
      "../../TUS_SP/data/frames_transfs/025/RH_Par_C_PtD.h5\n",
      "../../TUS_SP/data/frames_transfs/021/RH_Par_S_DtP.h5\n",
      "../../TUS_SP/data/frames_transfs/020/LH_Per_C_PtD.h5\n",
      "../../TUS_SP/data/frames_transfs/018/LH_Par_L_PtD.h5\n",
      "../../TUS_SP/data/frames_transfs/023/RH_Par_C_PtD.h5\n",
      "../../TUS_SP/data/frames_transfs/019/LH_Par_L_PtD.h5\n",
      "../../TUS_SP/data/frames_transfs/021/RH_Par_L_DtP.h5\n",
      "../../TUS_SP/data/frames_transfs/021/RH_Per_S_DtP.h5\n",
      "../../TUS_SP/data/frames_transfs/021/LH_Per_S_DtP.h5\n",
      "../../TUS_SP/data/frames_transfs/014/RH_Par_C_DtP.h5\n",
      "../../TUS_SP/data/frames_transfs/024/LH_Par_L_DtP.h5\n",
      "../../TUS_SP/data/frames_transfs/020/LH_Per_S_PtD.h5\n",
      "../../TUS_SP/data/frames_transfs/021/LH_Per_S_DtP.h5\n",
      "../../TUS_SP/data/frames_transfs/024/RH_Per_S_PtD.h5\n",
      "../../TUS_SP/data/frames_transfs/018/LH_Per_S_DtP.h5\n",
      "../../TUS_SP/data/frames_transfs/022/LH_Par_S_DtP.h5\n",
      "../../TUS_SP/data/frames_transfs/022/RH_Per_C_PtD.h5\n",
      "../../TUS_SP/data/frames_transfs/021/RH_Per_L_DtP.h5\n",
      "../../TUS_SP/data/frames_transfs/021/LH_Per_L_DtP.h5\n",
      "../../TUS_SP/data/frames_transfs/022/LH_Par_C_DtP.h5\n",
      "../../TUS_SP/data/frames_transfs/028/LH_Per_C_PtD.h5\n",
      "../../TUS_SP/data/frames_transfs/019/RH_Per_S_DtP.h5\n",
      "../../TUS_SP/data/frames_transfs/021/RH_Per_C_PtD.h5\n",
      "../../TUS_SP/data/frames_transfs/025/LH_Per_S_DtP.h5\n",
      "../../TUS_SP/data/frames_transfs/018/LH_Per_C_PtD.h5\n",
      "../../TUS_SP/data/frames_transfs/022/RH_Par_L_PtD.h5\n",
      "../../TUS_SP/data/frames_transfs/022/LH_Per_C_DtP.h5\n",
      "../../TUS_SP/data/frames_transfs/019/RH_Par_L_PtD.h5\n",
      "../../TUS_SP/data/frames_transfs/024/RH_Par_C_DtP.h5\n",
      "../../TUS_SP/data/frames_transfs/022/LH_Per_C_DtP.h5\n",
      "../../TUS_SP/data/frames_transfs/024/RH_Per_S_PtD.h5\n",
      "../../TUS_SP/data/frames_transfs/017/LH_Par_S_DtP.h5\n",
      "../../TUS_SP/data/frames_transfs/025/LH_Par_L_PtD.h5\n",
      "../../TUS_SP/data/frames_transfs/023/RH_Per_L_DtP.h5\n",
      "../../TUS_SP/data/frames_transfs/021/RH_Per_S_DtP.h5\n",
      "../../TUS_SP/data/frames_transfs/024/RH_Per_C_DtP.h5\n",
      "../../TUS_SP/data/frames_transfs/020/LH_Per_L_PtD.h5\n",
      "../../TUS_SP/data/frames_transfs/020/RH_Per_C_DtP.h5\n",
      "../../TUS_SP/data/frames_transfs/022/RH_Per_S_PtD.h5\n",
      "../../TUS_SP/data/frames_transfs/016/LH_Par_L_PtD.h5\n",
      "../../TUS_SP/data/frames_transfs/020/LH_Per_L_PtD.h5\n",
      "../../TUS_SP/data/frames_transfs/016/LH_Per_C_PtD.h5\n",
      "../../TUS_SP/data/frames_transfs/022/RH_Per_C_PtD.h5\n",
      "../../TUS_SP/data/frames_transfs/020/LH_Per_C_PtD.h5\n",
      "../../TUS_SP/data/frames_transfs/018/RH_Par_S_DtP.h5\n",
      "../../TUS_SP/data/frames_transfs/022/LH_Per_L_DtP.h5\n",
      "../../TUS_SP/data/frames_transfs/023/RH_Per_L_DtP.h5\n",
      "../../TUS_SP/data/frames_transfs/022/RH_Par_C_PtD.h5\n",
      "../../TUS_SP/data/frames_transfs/019/LH_Per_L_PtD.h5\n",
      "../../TUS_SP/data/frames_transfs/022/RH_Per_L_DtP.h5\n",
      "../../TUS_SP/data/frames_transfs/025/RH_Per_C_DtP.h5\n",
      "../../TUS_SP/data/frames_transfs/019/RH_Par_S_DtP.h5\n",
      "../../TUS_SP/data/frames_transfs/018/RH_Per_C_DtP.h5\n",
      "../../TUS_SP/data/frames_transfs/021/RH_Par_C_DtP.h5\n",
      "../../TUS_SP/data/frames_transfs/023/LH_Par_L_PtD.h5\n",
      "../../TUS_SP/data/frames_transfs/023/RH_Par_C_PtD.h5\n",
      "../../TUS_SP/data/frames_transfs/021/RH_Per_C_DtP.h5\n",
      "../../TUS_SP/data/frames_transfs/020/LH_Par_C_DtP.h5\n",
      "../../TUS_SP/data/frames_transfs/019/LH_Par_C_PtD.h5\n",
      "../../TUS_SP/data/frames_transfs/020/LH_Par_C_DtP.h5\n",
      "../../TUS_SP/data/frames_transfs/020/RH_Per_C_DtP.h5\n",
      "../../TUS_SP/data/frames_transfs/020/LH_Per_C_PtD.h5\n",
      "../../TUS_SP/data/frames_transfs/017/LH_Per_C_PtD.h5\n",
      "../../TUS_SP/data/frames_transfs/026/LH_Par_S_DtP.h5\n",
      "../../TUS_SP/data/frames_transfs/019/LH_Per_L_PtD.h5\n",
      "../../TUS_SP/data/frames_transfs/020/RH_Par_L_PtD.h5\n",
      "../../TUS_SP/data/frames_transfs/019/LH_Per_C_PtD.h5\n",
      "../../TUS_SP/data/frames_transfs/021/RH_Par_L_DtP.h5\n",
      "../../TUS_SP/data/frames_transfs/023/LH_Per_S_DtP.h5\n",
      "../../TUS_SP/data/frames_transfs/025/LH_Per_L_DtP.h5\n",
      "../../TUS_SP/data/frames_transfs/017/LH_Per_L_DtP.h5\n",
      "../../TUS_SP/data/frames_transfs/019/RH_Par_L_PtD.h5\n",
      "../../TUS_SP/data/frames_transfs/020/RH_Par_C_PtD.h5\n",
      "../../TUS_SP/data/frames_transfs/023/LH_Par_S_DtP.h5\n",
      "../../TUS_SP/data/frames_transfs/021/RH_Per_L_PtD.h5\n",
      "../../TUS_SP/data/frames_transfs/021/RH_Per_C_DtP.h5\n",
      "../../TUS_SP/data/frames_transfs/014/RH_Per_S_PtD.h5\n",
      "../../TUS_SP/data/frames_transfs/022/LH_Par_S_DtP.h5\n",
      "../../TUS_SP/data/frames_transfs/019/LH_Per_S_DtP.h5\n",
      "../../TUS_SP/data/frames_transfs/021/LH_Par_C_DtP.h5\n",
      "../../TUS_SP/data/frames_transfs/022/RH_Per_C_PtD.h5\n",
      "../../TUS_SP/data/frames_transfs/021/RH_Par_C_DtP.h5\n",
      "../../TUS_SP/data/frames_transfs/020/RH_Par_C_PtD.h5\n",
      "../../TUS_SP/data/frames_transfs/025/LH_Par_S_PtD.h5\n",
      "../../TUS_SP/data/frames_transfs/025/LH_Par_S_DtP.h5\n",
      "../../TUS_SP/data/frames_transfs/027/LH_Per_S_DtP.h5\n",
      "../../TUS_SP/data/frames_transfs/022/RH_Per_C_DtP.h5\n",
      "../../TUS_SP/data/frames_transfs/025/RH_Par_S_DtP.h5\n",
      "../../TUS_SP/data/frames_transfs/023/RH_Par_L_PtD.h5\n",
      "../../TUS_SP/data/frames_transfs/026/RH_Per_C_DtP.h5\n",
      "../../TUS_SP/data/frames_transfs/021/RH_Par_L_DtP.h5\n",
      "../../TUS_SP/data/frames_transfs/021/LH_Per_S_DtP.h5\n",
      "../../TUS_SP/data/frames_transfs/026/LH_Per_S_DtP.h5\n",
      "../../TUS_SP/data/frames_transfs/030/LH_Par_L_DtP.h5\n",
      "../../TUS_SP/data/frames_transfs/019/RH_Par_L_DtP.h5\n",
      "../../TUS_SP/data/frames_transfs/022/RH_Par_S_PtD.h5\n",
      "../../TUS_SP/data/frames_transfs/029/LH_Per_C_DtP.h5\n",
      "../../TUS_SP/data/frames_transfs/024/LH_Par_S_PtD.h5\n",
      "../../TUS_SP/data/frames_transfs/019/LH_Per_L_PtD.h5\n",
      "../../TUS_SP/data/frames_transfs/026/RH_Per_S_PtD.h5\n",
      "../../TUS_SP/data/frames_transfs/023/LH_Per_C_DtP.h5\n",
      "../../TUS_SP/data/frames_transfs/017/RH_Per_L_PtD.h5\n",
      "../../TUS_SP/data/frames_transfs/022/RH_Per_S_PtD.h5\n",
      "../../TUS_SP/data/frames_transfs/022/LH_Per_S_PtD.h5\n",
      "../../TUS_SP/data/frames_transfs/025/RH_Par_C_PtD.h5\n",
      "../../TUS_SP/data/frames_transfs/020/RH_Par_S_DtP.h5\n",
      "../../TUS_SP/data/frames_transfs/022/LH_Per_L_PtD.h5\n",
      "../../TUS_SP/data/frames_transfs/022/LH_Per_C_DtP.h5\n",
      "../../TUS_SP/data/frames_transfs/021/LH_Par_C_DtP.h5\n",
      "../../TUS_SP/data/frames_transfs/021/RH_Par_C_PtD.h5\n",
      "../../TUS_SP/data/frames_transfs/021/LH_Per_C_DtP.h5\n",
      "../../TUS_SP/data/frames_transfs/019/RH_Per_L_PtD.h5\n",
      "../../TUS_SP/data/frames_transfs/019/RH_Par_C_PtD.h5\n",
      "../../TUS_SP/data/frames_transfs/008/RH_Par_L_DtP.h5\n",
      "../../TUS_SP/data/frames_transfs/020/LH_Par_S_PtD.h5\n",
      "../../TUS_SP/data/frames_transfs/021/LH_Per_L_DtP.h5\n",
      "../../TUS_SP/data/frames_transfs/017/RH_Per_C_PtD.h5\n",
      "../../TUS_SP/data/frames_transfs/020/RH_Par_C_PtD.h5\n",
      "../../TUS_SP/data/frames_transfs/023/RH_Par_S_DtP.h5\n",
      "../../TUS_SP/data/frames_transfs/022/RH_Par_C_DtP.h5\n",
      "../../TUS_SP/data/frames_transfs/024/RH_Par_C_DtP.h5\n",
      "../../TUS_SP/data/frames_transfs/022/RH_Per_C_PtD.h5\n",
      "../../TUS_SP/data/frames_transfs/020/LH_Per_S_PtD.h5\n",
      "../../TUS_SP/data/frames_transfs/020/RH_Per_S_PtD.h5\n",
      "../../TUS_SP/data/frames_transfs/024/RH_Par_C_DtP.h5\n",
      "../../TUS_SP/data/frames_transfs/018/LH_Per_S_PtD.h5\n",
      "../../TUS_SP/data/frames_transfs/020/LH_Per_L_DtP.h5\n",
      "../../TUS_SP/data/frames_transfs/023/RH_Per_L_DtP.h5\n",
      "../../TUS_SP/data/frames_transfs/021/LH_Per_L_PtD.h5\n",
      "../../TUS_SP/data/frames_transfs/019/LH_Par_C_PtD.h5\n",
      "../../TUS_SP/data/frames_transfs/022/LH_Par_L_PtD.h5\n",
      "../../TUS_SP/data/frames_transfs/020/RH_Per_S_DtP.h5\n",
      "../../TUS_SP/data/frames_transfs/020/LH_Per_S_PtD.h5\n",
      "../../TUS_SP/data/frames_transfs/021/RH_Per_L_PtD.h5\n",
      "../../TUS_SP/data/frames_transfs/020/RH_Par_L_PtD.h5\n",
      "../../TUS_SP/data/frames_transfs/023/RH_Par_L_PtD.h5\n",
      "../../TUS_SP/data/frames_transfs/024/LH_Per_L_DtP.h5\n",
      "../../TUS_SP/data/frames_transfs/020/RH_Per_C_DtP.h5\n",
      "../../TUS_SP/data/frames_transfs/020/RH_Per_S_PtD.h5\n",
      "../../TUS_SP/data/frames_transfs/025/RH_Par_C_PtD.h5\n",
      "../../TUS_SP/data/frames_transfs/024/RH_Par_S_DtP.h5\n",
      "../../TUS_SP/data/frames_transfs/025/LH_Per_L_PtD.h5\n",
      "../../TUS_SP/data/frames_transfs/020/RH_Per_C_PtD.h5\n",
      "../../TUS_SP/data/frames_transfs/017/RH_Par_S_PtD.h5\n",
      "../../TUS_SP/data/frames_transfs/020/RH_Per_C_PtD.h5\n",
      "../../TUS_SP/data/frames_transfs/020/RH_Per_L_DtP.h5\n",
      "../../TUS_SP/data/frames_transfs/019/RH_Per_L_PtD.h5\n",
      "../../TUS_SP/data/frames_transfs/022/LH_Per_L_PtD.h5\n",
      "../../TUS_SP/data/frames_transfs/017/LH_Per_C_PtD.h5\n",
      "../../TUS_SP/data/frames_transfs/019/LH_Par_L_DtP.h5\n",
      "../../TUS_SP/data/frames_transfs/019/LH_Par_S_PtD.h5\n",
      "../../TUS_SP/data/frames_transfs/022/LH_Per_L_DtP.h5\n",
      "../../TUS_SP/data/frames_transfs/018/LH_Per_L_DtP.h5\n",
      "../../TUS_SP/data/frames_transfs/018/LH_Per_C_PtD.h5\n",
      "../../TUS_SP/data/frames_transfs/018/RH_Per_L_PtD.h5\n",
      "../../TUS_SP/data/frames_transfs/021/RH_Par_L_DtP.h5\n",
      "../../TUS_SP/data/frames_transfs/023/LH_Per_S_DtP.h5\n",
      "../../TUS_SP/data/frames_transfs/021/RH_Par_S_PtD.h5\n"
     ]
    }
   ],
   "source": [
    "for i in range(len(gt_files_h5 )):\n",
    "    file_without_pre = os.path.basename(gt_files_h5[i]).split('.')\n",
    "    sub_folder_dir = os.path.split(os.path.dirname(gt_files_h5[i]))[-1]\n",
    "    test_file_path = os.path.join(gtpath,sub_folder_dir+'_'+file_without_pre[0] + '.npz')\n",
    "    if os.path.isfile(test_file_path ):\n",
    "        DataSet = h5py.File(gt_files_h5[i],'r')\n",
    "        example_transformation = DataSet[\"tforms\"][()]\n",
    "        DataSet.close()\n",
    "        test_data  = np.load(test_file_path)\n",
    "        filedic = dict(np.load('../datasets/Euclidean/NijoCastleGate.npz',allow_pickle=True))\n",
    "        assert test_data['data1Ps_gt'].shape[0] ==example_transformation.shape[0]\n",
    "        Ns = np.zeros((test_data['data1Ps_gt'].shape[0],3,3))\n",
    "        for i in range(Ns.shape[0]):\n",
    "        #Ns[i,:,:] =  torch.tensor(tform_calib[4:8,:] @ tform_calib[0:4,:])[:3,:3]\n",
    "            Ns[i,:,:] =  torch.from_numpy(np.eye(3))\n",
    "        filedic['M'] = test_data['data1M']\n",
    "        filedic['K_gt'] = Ns\n",
    "        tform_calib_scale, tform_calib_R_T, tform_calib = read_calib_matrices(os.path.join('../../TUS_SP/data/','calib_matrix.csv'))\n",
    "        data_pairs_all = data_pairs_adjacent(example_transformation.shape[0])[0:,:]\n",
    "        transform_label_global_all = LabelTransform(\n",
    "                    \"parameter\",\n",
    "                    pairs=data_pairs_all,\n",
    "                    image_points=None,\n",
    "                    tform_image_to_tool=tform_calib,\n",
    "                    tform_image_mm_to_tool=tform_calib_R_T,\n",
    "                    tform_image_pixel_to_mm = tform_calib_scale\n",
    "                    )\n",
    "\n",
    "        labels_global_parameters = torch.squeeze(transform_label_global_all(torch.from_numpy(example_transformation)[None,...], None))\n",
    "        Ps_gt = labels_global_parameters[:, :3, :].numpy()\n",
    "        R_gt = Ns  @ Ps_gt[:, :, :3]\n",
    "        print(gt_files_h5[i])\n",
    "        assert np.allclose(R_gt.swapaxes(1, 2) @ R_gt, np.eye(3)[None, :, :],rtol=1e-02,atol=1e-05)    \n",
    "        filedic['R_gt'] = labels_global_parameters[:,:3,:3].numpy()\n",
    "        filedic['T_gt'] = labels_global_parameters [:,:3,3].numpy()\n",
    "        filedic['Ps_gt'] =labels_global_parameters[:, :3, :].numpy()  \n",
    "        np.savez(os.path.join('../datasets/Euclidean/',sub_folder_dir+'_'+file_without_pre[0] +'_gt.npz'), **filedic)  "
   ]
  },
  {
   "cell_type": "code",
   "execution_count": null,
   "id": "49af2201",
   "metadata": {},
   "outputs": [],
   "source": []
  },
  {
   "cell_type": "code",
   "execution_count": 50,
   "id": "ab700365-4867-4235-8b3d-88117bc01c75",
   "metadata": {
    "tags": []
   },
   "outputs": [],
   "source": [
    "#/data/data_ustv/home/zzhang679/gasfm/dataset/Euclidean/tus_sp_data/\n",
    "\n",
    "\n",
    "\n",
    "#filedic['Ps_gt'] = test_data['data1Ps_gt'][:,:3,:]"
   ]
  },
  {
   "cell_type": "code",
   "execution_count": 9,
   "id": "5335a819-97aa-433a-9c3c-8deb31e189c0",
   "metadata": {
    "tags": []
   },
   "outputs": [],
   "source": [
    "#Ps_gt = filedic['Ps_gt']\n",
    "#Ns = np.linalg.inv(filedic['K_gt'])\n",
    "#N33 = Ns[:, 2, 2][:, None, None]\n",
    "#Ns /= N33 # Divide by N33 to ensure last row [0, 0, 1] (although generally the case, a small deviation in scale has been observed for e.g. the PantheonParis scene)"
   ]
  },
  {
   "cell_type": "code",
   "execution_count": 36,
   "id": "3cc187dc-cacc-404a-a509-21e4b5bbea4a",
   "metadata": {
    "tags": []
   },
   "outputs": [
    {
     "data": {
      "text/plain": [
       "('000', 'LH_Par_C_DtP.npz')"
      ]
     },
     "execution_count": 36,
     "metadata": {},
     "output_type": "execute_result"
    }
   ],
   "source": [
    "#R_gt = Ns  @ Ps_gt[:, :, :3]\n",
    "#assert np.allclose(R_gt.swapaxes(1, 2) @ R_gt, np.eye(3)[None, :, :],rtol=1e-03,atol=1e-05)\n",
    "#filedic['R_gt'] = R_gt\n",
    "#filedic['T_gt'] = None\n",
    "#gt_files[0].split('_')[0], '_'.join(gt_files[0].split('_')[1:])"
   ]
  },
  {
   "cell_type": "code",
   "execution_count": 6,
   "id": "40731b74",
   "metadata": {},
   "outputs": [
    {
     "data": {
      "text/plain": [
       "['data1M', 'data1Ns', 'data1Ps_gt']"
      ]
     },
     "execution_count": 6,
     "metadata": {},
     "output_type": "execute_result"
    }
   ],
   "source": [
    "#test_data  = np.load('046_RH_Per_L_PtD.npz')\n",
    "test_data  = np.load('001_RH_Per_L_DtP.npz')\n",
    "test_data.files"
   ]
  },
  {
   "cell_type": "code",
   "execution_count": 7,
   "id": "ae09ae7b",
   "metadata": {},
   "outputs": [],
   "source": [
    "Ns = np.zeros((test_data['data1Ps_gt'].shape[0],3,3))\n",
    "for i in range(Ns.shape[0]):\n",
    "  #Ns[i,:,:] =  torch.tensor(tform_calib[4:8,:] @ tform_calib[0:4,:])[:3,:3]\n",
    "  Ns[i,:,:] =  torch.from_numpy(np.eye(3))"
   ]
  },
  {
   "cell_type": "code",
   "execution_count": 44,
   "id": "87745fff-d4fb-4c1b-b780-b3f6353d9ca9",
   "metadata": {
    "tags": []
   },
   "outputs": [],
   "source": [
    "filedic['M'] = test_data['data1M']\n",
    "filedic['K_gt'] = Ns"
   ]
  },
  {
   "cell_type": "code",
   "execution_count": 45,
   "id": "442b0df6",
   "metadata": {},
   "outputs": [],
   "source": [
    "tform_calib_scale, tform_calib_R_T, tform_calib = read_calib_matrices(os.path.join('../../TUS_SP/data/','calib_matrix.csv'))\n",
    "data_pairs_all = data_pairs_adjacent(test_data['data1Ps_gt'].shape[0])[0:,:]\n",
    "transform_label_global_all = LabelTransform(\n",
    "            \"parameter\",\n",
    "            pairs=data_pairs_all,\n",
    "            image_points=None,\n",
    "            tform_image_to_tool=tform_calib,\n",
    "            tform_image_mm_to_tool=tform_calib_R_T,\n",
    "            tform_image_pixel_to_mm = tform_calib_scale\n",
    "            )"
   ]
  },
  {
   "cell_type": "code",
   "execution_count": 46,
   "id": "ab569fd1",
   "metadata": {},
   "outputs": [
    {
     "data": {
      "text/plain": [
       "torch.Size([511, 4, 4])"
      ]
     },
     "execution_count": 46,
     "metadata": {},
     "output_type": "execute_result"
    }
   ],
   "source": [
    "labels_global_parameters = transform_label_global_all(torch.from_numpy(test_data['data1Ps_gt'])[None,...], None).squeeze(0)\n",
    "labels_global_parameters.shape"
   ]
  },
  {
   "cell_type": "code",
   "execution_count": 47,
   "id": "27af7a56-3887-4924-8a50-6ae178e8f7fc",
   "metadata": {
    "tags": []
   },
   "outputs": [],
   "source": [
    "#filedic['Ps_gt'] =example_transformation[:,:3,:]\n",
    "filedic['R_gt'] = labels_global_parameters[:,:3,:3].numpy()\n",
    "filedic['T_gt'] = labels_global_parameters [:,:3,3].numpy()\n",
    "filedic['Ps_gt'] =labels_global_parameters[:, :3, :].numpy()"
   ]
  },
  {
   "cell_type": "code",
   "execution_count": 48,
   "id": "4844d73d-1f8d-4f6e-ab63-9454ab3a1a18",
   "metadata": {
    "tags": []
   },
   "outputs": [],
   "source": [
    "np.savez('001_RH_Per_L_DtP_new.npz', **filedic)"
   ]
  },
  {
   "cell_type": "code",
   "execution_count": 83,
   "id": "d64d590a-5daf-482b-ab4a-507569948d57",
   "metadata": {
    "tags": []
   },
   "outputs": [
    {
     "data": {
      "text/plain": [
       "tensor([[[[ 1.0000e+00, -5.6274e-07, -1.4147e-07, -4.9591e-05],\n",
       "          [ 4.7456e-08,  1.0000e+00, -1.0241e-07, -1.9836e-04],\n",
       "          [-2.4849e-08,  1.2231e-06,  1.0000e+00,  1.9455e-04],\n",
       "          [ 3.0413e-10,  1.5854e-09,  2.8802e-10,  1.0000e+00]],\n",
       "\n",
       "         [[ 1.0000e+00,  1.5799e-05,  1.0455e-04, -6.1810e-02],\n",
       "          [-1.6374e-05,  1.0000e+00,  4.8356e-05, -1.0834e-02],\n",
       "          [-1.0472e-04, -4.7262e-05,  1.0000e+00,  1.5354e-02],\n",
       "          [ 3.0408e-10,  1.5854e-09,  2.8812e-10,  1.0000e+00]],\n",
       "\n",
       "         [[ 1.0000e+00, -2.5156e-04,  2.4242e-04, -2.2626e-01],\n",
       "          [ 2.5089e-04,  1.0000e+00,  5.3151e-04, -8.5831e-02],\n",
       "          [-2.4271e-04, -5.3036e-04,  1.0000e+00, -5.6770e-02],\n",
       "          [ 3.0446e-10,  1.5851e-09,  2.8893e-10,  1.0000e+00]],\n",
       "\n",
       "         ...,\n",
       "\n",
       "         [[ 9.8282e-01,  7.9313e-02,  1.6669e-01, -1.1418e+02],\n",
       "          [-5.5851e-02,  9.8843e-01, -1.4102e-01,  2.2680e+01],\n",
       "          [-1.7595e-01,  1.2928e-01,  9.7587e-01,  2.8040e+01],\n",
       "          [ 1.5968e-10,  1.6284e-09,  1.0820e-10,  1.0000e+00]],\n",
       "\n",
       "         [[ 9.8275e-01,  7.9500e-02,  1.6699e-01, -1.1449e+02],\n",
       "          [-5.5980e-02,  9.8841e-01, -1.4112e-01,  2.2726e+01],\n",
       "          [-1.7627e-01,  1.2934e-01,  9.7581e-01,  2.8047e+01],\n",
       "          [ 1.5937e-10,  1.6284e-09,  1.0810e-10,  1.0000e+00]],\n",
       "\n",
       "         [[ 9.8271e-01,  7.9600e-02,  1.6715e-01, -1.1479e+02],\n",
       "          [-5.6051e-02,  9.8839e-01, -1.4117e-01,  2.2766e+01],\n",
       "          [-1.7645e-01,  1.2936e-01,  9.7577e-01,  2.8046e+01],\n",
       "          [ 1.5919e-10,  1.6284e-09,  1.0807e-10,  1.0000e+00]]]])"
      ]
     },
     "execution_count": 83,
     "metadata": {},
     "output_type": "execute_result"
    }
   ],
   "source": [
    "transform_label_global_all(torch.from_numpy(test_data['data1Ps_gt'])[None,...], None)"
   ]
  },
  {
   "cell_type": "code",
   "execution_count": 22,
   "id": "8021502c-d2ba-48cd-bd89-7f50b9592019",
   "metadata": {
    "tags": []
   },
   "outputs": [
    {
     "data": {
      "text/plain": [
       "torch.Size([378, 4, 4])"
      ]
     },
     "execution_count": 22,
     "metadata": {},
     "output_type": "execute_result"
    }
   ],
   "source": [
    "labels_global_parameters.shape"
   ]
  },
  {
   "cell_type": "code",
   "execution_count": 8,
   "id": "157efd19-88ce-4bef-889b-0493bd75b8c4",
   "metadata": {
    "tags": []
   },
   "outputs": [],
   "source": [
    "final_result = np.load('/data/data_ustv/home/ydou8/gasfm/results/result_single_multi_4/TRAINING/001_RH_Per_L_DtP_new/predictions/best_predictions.npz')"
   ]
  },
  {
   "cell_type": "code",
   "execution_count": 10,
   "id": "fad462cf",
   "metadata": {},
   "outputs": [],
   "source": [
    "def get_raw_data(dataset,):\n",
    "    \"\"\"\n",
    "    :return:\n",
    "    M - Points Matrix (2mxn)\n",
    "    Ns - Inversed Calibration matrix (Ks-1) (mx3x3)\n",
    "    Ps_gt - GT projection matrices (mx3x4)\n",
    "    NBs - Normzlize Bifocal Tensor (En) (3mx3m)\n",
    "    triplets\n",
    "    \"\"\"\n",
    "\n",
    "    # Init\n",
    "\n",
    "    # Get bifocal tensors and 2D points\n",
    "    M = dataset['M']\n",
    "    Ps_gt = dataset['Ps_gt']\n",
    "    Ns = np.linalg.inv(dataset['K_gt'])\n",
    "    N33 = Ns[:, 2, 2][:, None, None]\n",
    "    Ns /= N33 # Divide by N33 to ensure last row [0, 0, 1] (although generally the case, a small deviation in scale has been observed for e.g. the PantheonParis scene)\n",
    "    Ps_gt /= np.linalg.det(Ns @ Ps_gt[:, :, :3])[:, None, None]**(1/3) # Likewise, ensure that P is scaled such that P=K*[R  t], where K=inv(N) has final row [0, 0, 1], and R is a rotation\n",
    "    R_gt = Ns @ Ps_gt[:, :, :3]\n",
    "    assert np.allclose(R_gt.swapaxes(1, 2) @ R_gt, np.eye(3)[None, :, :],rtol = 1e-02,atol=1e-04)\n",
    "\n",
    "\n",
    "    M = torch.from_numpy(M).float()\n",
    "    Ps_gt = torch.from_numpy(Ps_gt).float()\n",
    "    Ns = torch.from_numpy(Ns).float()\n",
    "\n",
    "    return M, Ns, Ps_gt"
   ]
  },
  {
   "cell_type": "code",
   "execution_count": 42,
   "id": "cd9ba0ee",
   "metadata": {},
   "outputs": [],
   "source": [
    "_,_,Ps_gt = get_raw_data(final_result_gt)\n",
    "Rs = Ps_gt[:,:3,:3]\n",
    "ts = Ps_gt[:,:3,3]"
   ]
  },
  {
   "cell_type": "code",
   "execution_count": 54,
   "id": "2397ed66",
   "metadata": {},
   "outputs": [
    {
     "data": {
      "text/plain": [
       "((511, 3, 3), torch.Size([511, 3, 3]))"
      ]
     },
     "execution_count": 54,
     "metadata": {},
     "output_type": "execute_result"
    }
   ],
   "source": [
    "final_result['Rs'].shape,Rs.shape"
   ]
  },
  {
   "cell_type": "code",
   "execution_count": 55,
   "id": "0dea38fe",
   "metadata": {},
   "outputs": [
    {
     "data": {
      "text/plain": [
       "['scene_name',\n",
       " 'Ks',\n",
       " 'Ps',\n",
       " 'Ps_norm',\n",
       " 'pts3D_pred',\n",
       " 'pts3D_triangulated',\n",
       " 'Rs_gt',\n",
       " 'ts_gt',\n",
       " 'Rs',\n",
       " 'ts',\n",
       " 'cam_centers',\n",
       " 'cam_centers_gt',\n",
       " 'Rs_fixed',\n",
       " 'ts_fixed',\n",
       " 'pts3D_pred_fixed',\n",
       " 'pts3D_triangulated_fixed']"
      ]
     },
     "execution_count": 55,
     "metadata": {},
     "output_type": "execute_result"
    }
   ],
   "source": [
    "final_result.files"
   ]
  },
  {
   "cell_type": "code",
   "execution_count": 56,
   "id": "4463a850",
   "metadata": {},
   "outputs": [],
   "source": [
    "def compare_rotations(R1, R2):\n",
    "    if isinstance(R1, np.ndarray):\n",
    "        cos_err = (R1 @ np.transpose(R2, [0,2,1])) [:, np.arange(3), np.arange(3)]\n",
    "        cos_err = (cos_err.sum(axis=-1) - 1) / 2\n",
    "    else:\n",
    "        cos_err = (torch.bmm(R1, R2.transpose(1, 2))[:, torch.arange(3), torch.arange(3)].sum(dim=-1) - 1) / 2\n",
    "    cos_err[cos_err > 1] = 1\n",
    "    cos_err[cos_err < -1] = -1\n",
    "    return np.arccos(cos_err) * 180 / np.pi"
   ]
  },
  {
   "cell_type": "code",
   "execution_count": 69,
   "id": "2cfabfd8",
   "metadata": {},
   "outputs": [
    {
     "data": {
      "text/plain": [
       "4.9799724"
      ]
     },
     "execution_count": 69,
     "metadata": {},
     "output_type": "execute_result"
    }
   ],
   "source": [
    "np.mean(compare_rotations(Rs.numpy(),final_result['Rs']))"
   ]
  },
  {
   "cell_type": "code",
   "execution_count": 70,
   "id": "4b03187e",
   "metadata": {},
   "outputs": [
    {
     "data": {
      "text/plain": [
       "3.4695036"
      ]
     },
     "execution_count": 70,
     "metadata": {},
     "output_type": "execute_result"
    }
   ],
   "source": [
    "np.mean(compare_rotations(Rs.numpy(),final_result['Rs_gt']))"
   ]
  },
  {
   "cell_type": "code",
   "execution_count": 43,
   "id": "1734e245",
   "metadata": {},
   "outputs": [
    {
     "data": {
      "text/plain": [
       "tensor([[ 1.1203, -0.3202,  1.9584],\n",
       "        [ 1.1214, -0.3203,  1.9619],\n",
       "        [ 1.1222, -0.3200,  1.9642],\n",
       "        ...,\n",
       "        [-0.8587,  0.1901, -1.4409],\n",
       "        [-0.8576,  0.1958, -1.4431],\n",
       "        [-0.8589,  0.1988, -1.4411]])"
      ]
     },
     "execution_count": 43,
     "metadata": {},
     "output_type": "execute_result"
    }
   ],
   "source": [
    "t_gt = -torch.bmm(Rs.inverse(), ts.unsqueeze(-1)).squeeze()\n",
    "trans = t_gt.mean(dim=0)\n",
    "scale = (t_gt - trans).norm(p=2, dim=1).mean()\n",
    "\n",
    "t_gt = (t_gt - trans)/scale\n",
    "t_gt "
   ]
  },
  {
   "cell_type": "code",
   "execution_count": 38,
   "id": "73ff26d4",
   "metadata": {},
   "outputs": [],
   "source": [
    "Vs_invT = torch.from_numpy(final_result[\"Ps_norm\"][:, 0:3, 0:3])\n",
    "Vs = torch.inverse(Vs_invT).transpose(1, 2)\n",
    "ts_ = torch.bmm(-Vs.transpose(1, 2), torch.from_numpy(final_result[\"Ps\"][:, 0:3, 3]).unsqueeze(dim=-1)).squeeze()"
   ]
  },
  {
   "cell_type": "code",
   "execution_count": 40,
   "id": "1b2e5f11",
   "metadata": {},
   "outputs": [
    {
     "data": {
      "text/plain": [
       "(tensor([[ 0.4845, -0.1264,  1.2803],\n",
       "         [ 0.4794, -0.1237,  1.2672],\n",
       "         [ 0.4980, -0.1282,  1.3035],\n",
       "         ...,\n",
       "         [-0.3262,  0.0581, -0.7350],\n",
       "         [-0.3530,  0.0742, -0.8380],\n",
       "         [-0.2914,  0.0466, -0.6126]]),\n",
       " tensor([[ 1.1203, -0.3202,  1.9584],\n",
       "         [ 1.1214, -0.3203,  1.9619],\n",
       "         [ 1.1222, -0.3200,  1.9642],\n",
       "         ...,\n",
       "         [-0.8587,  0.1901, -1.4409],\n",
       "         [-0.8576,  0.1958, -1.4431],\n",
       "         [-0.8589,  0.1988, -1.4411]]),\n",
       " tensor([[ 0.0000e+00, -1.8311e-04,  1.5640e-04],\n",
       "         [-5.1903e-02,  1.7014e-03, -1.6436e-01],\n",
       "         [-8.7204e-02, -9.1934e-03, -2.7888e-01],\n",
       "         ...,\n",
       "         [ 1.2111e+02, -2.7082e+01,  1.4315e+02],\n",
       "         [ 1.2112e+02, -2.7208e+01,  1.4324e+02],\n",
       "         [ 1.2112e+02, -2.7240e+01,  1.4320e+02]]))"
      ]
     },
     "execution_count": 40,
     "metadata": {},
     "output_type": "execute_result"
    }
   ],
   "source": [
    "ts_,t_gt,ts"
   ]
  },
  {
   "cell_type": "code",
   "execution_count": 63,
   "id": "16c5214e",
   "metadata": {},
   "outputs": [
    {
     "data": {
      "text/plain": [
       "tensor(0.5351)"
      ]
     },
     "execution_count": 63,
     "metadata": {},
     "output_type": "execute_result"
    }
   ],
   "source": [
    "translation_err = (t_gt - ts_).norm(p=2, dim=1)\n",
    "translation_err.mean()"
   ]
  },
  {
   "cell_type": "code",
   "execution_count": 26,
   "id": "f7e08d47",
   "metadata": {},
   "outputs": [],
   "source": [
    "Vs_invT = torch.from_numpy(final_result[\"Rs_gt\"])\n",
    "Vs = torch.inverse(Vs_invT).transpose(1, 2)\n",
    "ts_ = torch.bmm(-Vs.transpose(1, 2), torch.from_numpy(final_result[\"ts_gt\"]).unsqueeze(dim=-1)).squeeze()"
   ]
  },
  {
   "cell_type": "code",
   "execution_count": 44,
   "id": "fd8d196c",
   "metadata": {},
   "outputs": [
    {
     "data": {
      "text/plain": [
       "tensor(188.0374)"
      ]
     },
     "execution_count": 44,
     "metadata": {},
     "output_type": "execute_result"
    }
   ],
   "source": [
    "translation_err = (ts -final_result[\"ts_gt\"]).norm(p=2, dim=1)\n",
    "translation_err.mean()"
   ]
  },
  {
   "cell_type": "code",
   "execution_count": 17,
   "id": "7a5884a3-605f-4b95-a062-3eef35e76c24",
   "metadata": {
    "tags": []
   },
   "outputs": [
    {
     "ename": "NameError",
     "evalue": "name 'Rs_pred_orth' is not defined",
     "output_type": "error",
     "traceback": [
      "\u001b[0;31m---------------------------------------------------------------------------\u001b[0m",
      "\u001b[0;31mNameError\u001b[0m                                 Traceback (most recent call last)",
      "Cell \u001b[0;32mIn[17], line 1\u001b[0m\n\u001b[0;32m----> 1\u001b[0m orient_err \u001b[38;5;241m=\u001b[39m (\u001b[43mRs_pred_orth\u001b[49m \u001b[38;5;241m-\u001b[39mRs_gt_orth  )\u001b[38;5;241m.\u001b[39mnorm(p\u001b[38;5;241m=\u001b[39m\u001b[38;5;241m2\u001b[39m, dim\u001b[38;5;241m=\u001b[39m\u001b[38;5;241m1\u001b[39m)\n\u001b[1;32m      2\u001b[0m orient_err\u001b[38;5;241m.\u001b[39mmean() \n",
      "\u001b[0;31mNameError\u001b[0m: name 'Rs_pred_orth' is not defined"
     ]
    }
   ],
   "source": [
    "orient_err = (Rs_pred_orth -Rs_gt_orth  ).norm(p=2, dim=1)\n",
    "orient_err.mean() "
   ]
  },
  {
   "cell_type": "code",
   "execution_count": 84,
   "id": "1a6edb13-c90a-4d40-b05b-2c89efb1044d",
   "metadata": {
    "tags": []
   },
   "outputs": [
    {
     "data": {
      "text/plain": [
       "tensor(66.3591)"
      ]
     },
     "execution_count": 84,
     "metadata": {},
     "output_type": "execute_result"
    }
   ],
   "source": [
    "(torch.from_numpy(final_result['ts_gt']) - torch.from_numpy(final_result['ts'])).norm(p=2, dim=1).mean()"
   ]
  },
  {
   "cell_type": "code",
   "execution_count": 85,
   "id": "4fd958d0-e320-4d09-8721-9cf18ac174d8",
   "metadata": {
    "tags": []
   },
   "outputs": [
    {
     "data": {
      "text/plain": [
       "array([[ 3.81469945e-05,  3.81469399e-05, -3.43322863e-05],\n",
       "       [-1.76057257e-02,  9.58820339e-03,  2.55114101e-02],\n",
       "       [ 2.28136610e-02,  3.12431413e-03,  1.18099250e-01],\n",
       "       ...,\n",
       "       [ 4.54642715e+01, -1.32920036e+01,  1.20526131e+02],\n",
       "       [ 4.56145401e+01, -1.33051891e+01,  1.20694695e+02],\n",
       "       [ 4.58041458e+01, -1.33368311e+01,  1.20908791e+02]], dtype=float32)"
      ]
     },
     "execution_count": 85,
     "metadata": {},
     "output_type": "execute_result"
    }
   ],
   "source": [
    "final_result['ts_gt']"
   ]
  },
  {
   "cell_type": "code",
   "execution_count": 86,
   "id": "df593df3-16e5-4450-ad18-4012a2d790fb",
   "metadata": {
    "tags": []
   },
   "outputs": [
    {
     "data": {
      "text/plain": [
       "array([[-0.5931242 ,  0.23268665, -1.9114772 ],\n",
       "       [-0.5957601 ,  0.23313114, -1.9251986 ],\n",
       "       [-0.5962507 ,  0.23343615, -1.916431  ],\n",
       "       ...,\n",
       "       [ 0.8368802 , -0.18274483,  1.8409928 ],\n",
       "       [ 0.8430807 , -0.18310413,  1.8530046 ],\n",
       "       [ 0.742508  , -0.17565493,  1.6709515 ]], dtype=float32)"
      ]
     },
     "execution_count": 86,
     "metadata": {},
     "output_type": "execute_result"
    }
   ],
   "source": [
    "final_result['ts']"
   ]
  },
  {
   "cell_type": "code",
   "execution_count": null,
   "id": "b7d1dd5f-318a-4f94-bf04-61da405850a0",
   "metadata": {},
   "outputs": [],
   "source": []
  }
 ],
 "metadata": {
  "kernelspec": {
   "display_name": "Python 3 (ipykernel)",
   "language": "python",
   "name": "python3"
  },
  "language_info": {
   "codemirror_mode": {
    "name": "ipython",
    "version": 3
   },
   "file_extension": ".py",
   "mimetype": "text/x-python",
   "name": "python",
   "nbconvert_exporter": "python",
   "pygments_lexer": "ipython3",
   "version": "3.12.3"
  }
 },
 "nbformat": 4,
 "nbformat_minor": 5
}
